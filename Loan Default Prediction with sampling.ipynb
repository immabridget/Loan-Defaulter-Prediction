{
 "cells": [
  {
   "cell_type": "markdown",
   "metadata": {},
   "source": [
    "## Loan Default Prediction"
   ]
  },
  {
   "cell_type": "markdown",
   "metadata": {},
   "source": [
    "## In this project, we are creating machine learning model for Loan Default Prediction\n",
    "\n",
    "###### Motivation\n",
    "- Make the financial institution to make a decision to avoid the below risks:\n",
    "    * Not approving a loan of a client who is likely to repay,results in a loss of business to the financial institition\n",
    "    * Approving a loan of a client who is not likely to pay, i.e. he/she is likely to default, may lead to a financial loss for the institution\n",
    "###### Dataset Description\n",
    "- This specific dataset originates from Coursera's Loan Default Prediction Challenge.\n",
    "- It offers an opportunity to practice and test machine learning skills on a real-world problem.\n",
    "- The dataset comprises a significant amount of data, with 255,347 rows and 18 columns.\n",
    "- The dataset contains information about past loan applicants and whether they defaulted or not.\n",
    "- The <b>goal</b> is to identify the fields/attributes about an applicant which indicate if she is likely to default.\n",
    "- The attributes will be fit to a machine learning algorithm to make a prediction for new data ad assit make the right decision when approving the loan,e.g.deny the loan,reduce loan amount,lend at higher rate for risky clients.\n",
    "\n",
    "\n",
    "\n"
   ]
  },
  {
   "cell_type": "markdown",
   "metadata": {},
   "source": [
    "### Importing libraries"
   ]
  },
  {
   "cell_type": "code",
   "execution_count": 1,
   "metadata": {},
   "outputs": [],
   "source": [
    "import numpy as np\n",
    "import pandas as pd\n",
    "#label encoding\n",
    "from sklearn.preprocessing import LabelEncoder\n",
    "import seaborn as sns\n",
    "import matplotlib.pyplot as plt\n",
    "import plotly.graph_objects as go\n",
    "import plotly.express as px\n",
    "from sklearn.model_selection import train_test_split\n",
    "from sklearn.ensemble import  BaggingClassifier, GradientBoostingClassifier,RandomForestClassifier, StackingClassifier\n",
    "from sklearn.linear_model import LogisticRegression\n",
    "from sklearn.neighbors import KNeighborsClassifier\n",
    "from sklearn.tree import DecisionTreeClassifier\n",
    "from sklearn.svm import SVC\n",
    "from sklearn.metrics import accuracy_score"
   ]
  },
  {
   "cell_type": "code",
   "execution_count": 2,
   "metadata": {},
   "outputs": [],
   "source": [
    "# load the data \n",
    "loan=pd.read_csv(\"Loan_default.csv\")\n",
    "# making copy of the dataset\n",
    "loan_df=loan.copy()"
   ]
  },
  {
   "cell_type": "markdown",
   "metadata": {},
   "source": [
    "### Exploratoty Data Analysis"
   ]
  },
  {
   "cell_type": "code",
   "execution_count": 3,
   "metadata": {},
   "outputs": [
    {
     "data": {
      "text/html": [
       "<div>\n",
       "<style scoped>\n",
       "    .dataframe tbody tr th:only-of-type {\n",
       "        vertical-align: middle;\n",
       "    }\n",
       "\n",
       "    .dataframe tbody tr th {\n",
       "        vertical-align: top;\n",
       "    }\n",
       "\n",
       "    .dataframe thead th {\n",
       "        text-align: right;\n",
       "    }\n",
       "</style>\n",
       "<table border=\"1\" class=\"dataframe\">\n",
       "  <thead>\n",
       "    <tr style=\"text-align: right;\">\n",
       "      <th></th>\n",
       "      <th>LoanID</th>\n",
       "      <th>Age</th>\n",
       "      <th>Income</th>\n",
       "      <th>LoanAmount</th>\n",
       "      <th>CreditScore</th>\n",
       "      <th>MonthsEmployed</th>\n",
       "      <th>NumCreditLines</th>\n",
       "      <th>InterestRate</th>\n",
       "      <th>LoanTerm</th>\n",
       "      <th>DTIRatio</th>\n",
       "      <th>Education</th>\n",
       "      <th>EmploymentType</th>\n",
       "      <th>MaritalStatus</th>\n",
       "      <th>HasMortgage</th>\n",
       "      <th>HasDependents</th>\n",
       "      <th>LoanPurpose</th>\n",
       "      <th>HasCoSigner</th>\n",
       "      <th>Default</th>\n",
       "    </tr>\n",
       "  </thead>\n",
       "  <tbody>\n",
       "    <tr>\n",
       "      <th>0</th>\n",
       "      <td>I38PQUQS96</td>\n",
       "      <td>56</td>\n",
       "      <td>85994</td>\n",
       "      <td>50587</td>\n",
       "      <td>520</td>\n",
       "      <td>80</td>\n",
       "      <td>4</td>\n",
       "      <td>15.23</td>\n",
       "      <td>36</td>\n",
       "      <td>0.44</td>\n",
       "      <td>Bachelor's</td>\n",
       "      <td>Full-time</td>\n",
       "      <td>Divorced</td>\n",
       "      <td>Yes</td>\n",
       "      <td>Yes</td>\n",
       "      <td>Other</td>\n",
       "      <td>Yes</td>\n",
       "      <td>0</td>\n",
       "    </tr>\n",
       "    <tr>\n",
       "      <th>1</th>\n",
       "      <td>HPSK72WA7R</td>\n",
       "      <td>69</td>\n",
       "      <td>50432</td>\n",
       "      <td>124440</td>\n",
       "      <td>458</td>\n",
       "      <td>15</td>\n",
       "      <td>1</td>\n",
       "      <td>4.81</td>\n",
       "      <td>60</td>\n",
       "      <td>0.68</td>\n",
       "      <td>Master's</td>\n",
       "      <td>Full-time</td>\n",
       "      <td>Married</td>\n",
       "      <td>No</td>\n",
       "      <td>No</td>\n",
       "      <td>Other</td>\n",
       "      <td>Yes</td>\n",
       "      <td>0</td>\n",
       "    </tr>\n",
       "    <tr>\n",
       "      <th>2</th>\n",
       "      <td>C1OZ6DPJ8Y</td>\n",
       "      <td>46</td>\n",
       "      <td>84208</td>\n",
       "      <td>129188</td>\n",
       "      <td>451</td>\n",
       "      <td>26</td>\n",
       "      <td>3</td>\n",
       "      <td>21.17</td>\n",
       "      <td>24</td>\n",
       "      <td>0.31</td>\n",
       "      <td>Master's</td>\n",
       "      <td>Unemployed</td>\n",
       "      <td>Divorced</td>\n",
       "      <td>Yes</td>\n",
       "      <td>Yes</td>\n",
       "      <td>Auto</td>\n",
       "      <td>No</td>\n",
       "      <td>1</td>\n",
       "    </tr>\n",
       "    <tr>\n",
       "      <th>3</th>\n",
       "      <td>V2KKSFM3UN</td>\n",
       "      <td>32</td>\n",
       "      <td>31713</td>\n",
       "      <td>44799</td>\n",
       "      <td>743</td>\n",
       "      <td>0</td>\n",
       "      <td>3</td>\n",
       "      <td>7.07</td>\n",
       "      <td>24</td>\n",
       "      <td>0.23</td>\n",
       "      <td>High School</td>\n",
       "      <td>Full-time</td>\n",
       "      <td>Married</td>\n",
       "      <td>No</td>\n",
       "      <td>No</td>\n",
       "      <td>Business</td>\n",
       "      <td>No</td>\n",
       "      <td>0</td>\n",
       "    </tr>\n",
       "    <tr>\n",
       "      <th>4</th>\n",
       "      <td>EY08JDHTZP</td>\n",
       "      <td>60</td>\n",
       "      <td>20437</td>\n",
       "      <td>9139</td>\n",
       "      <td>633</td>\n",
       "      <td>8</td>\n",
       "      <td>4</td>\n",
       "      <td>6.51</td>\n",
       "      <td>48</td>\n",
       "      <td>0.73</td>\n",
       "      <td>Bachelor's</td>\n",
       "      <td>Unemployed</td>\n",
       "      <td>Divorced</td>\n",
       "      <td>No</td>\n",
       "      <td>Yes</td>\n",
       "      <td>Auto</td>\n",
       "      <td>No</td>\n",
       "      <td>0</td>\n",
       "    </tr>\n",
       "  </tbody>\n",
       "</table>\n",
       "</div>"
      ],
      "text/plain": [
       "       LoanID  Age  Income  LoanAmount  CreditScore  MonthsEmployed  \\\n",
       "0  I38PQUQS96   56   85994       50587          520              80   \n",
       "1  HPSK72WA7R   69   50432      124440          458              15   \n",
       "2  C1OZ6DPJ8Y   46   84208      129188          451              26   \n",
       "3  V2KKSFM3UN   32   31713       44799          743               0   \n",
       "4  EY08JDHTZP   60   20437        9139          633               8   \n",
       "\n",
       "   NumCreditLines  InterestRate  LoanTerm  DTIRatio    Education  \\\n",
       "0               4         15.23        36      0.44   Bachelor's   \n",
       "1               1          4.81        60      0.68     Master's   \n",
       "2               3         21.17        24      0.31     Master's   \n",
       "3               3          7.07        24      0.23  High School   \n",
       "4               4          6.51        48      0.73   Bachelor's   \n",
       "\n",
       "  EmploymentType MaritalStatus HasMortgage HasDependents LoanPurpose  \\\n",
       "0      Full-time      Divorced         Yes           Yes       Other   \n",
       "1      Full-time       Married          No            No       Other   \n",
       "2     Unemployed      Divorced         Yes           Yes        Auto   \n",
       "3      Full-time       Married          No            No    Business   \n",
       "4     Unemployed      Divorced          No           Yes        Auto   \n",
       "\n",
       "  HasCoSigner  Default  \n",
       "0         Yes        0  \n",
       "1         Yes        0  \n",
       "2          No        1  \n",
       "3          No        0  \n",
       "4          No        0  "
      ]
     },
     "execution_count": 3,
     "metadata": {},
     "output_type": "execute_result"
    }
   ],
   "source": [
    "loan_df.head()"
   ]
  },
  {
   "cell_type": "code",
   "execution_count": 4,
   "metadata": {},
   "outputs": [
    {
     "name": "stdout",
     "output_type": "stream",
     "text": [
      "<class 'pandas.core.frame.DataFrame'>\n",
      "RangeIndex: 255347 entries, 0 to 255346\n",
      "Data columns (total 18 columns):\n",
      " #   Column          Non-Null Count   Dtype  \n",
      "---  ------          --------------   -----  \n",
      " 0   LoanID          255347 non-null  object \n",
      " 1   Age             255347 non-null  int64  \n",
      " 2   Income          255347 non-null  int64  \n",
      " 3   LoanAmount      255347 non-null  int64  \n",
      " 4   CreditScore     255347 non-null  int64  \n",
      " 5   MonthsEmployed  255347 non-null  int64  \n",
      " 6   NumCreditLines  255347 non-null  int64  \n",
      " 7   InterestRate    255347 non-null  float64\n",
      " 8   LoanTerm        255347 non-null  int64  \n",
      " 9   DTIRatio        255347 non-null  float64\n",
      " 10  Education       255347 non-null  object \n",
      " 11  EmploymentType  255347 non-null  object \n",
      " 12  MaritalStatus   255347 non-null  object \n",
      " 13  HasMortgage     255347 non-null  object \n",
      " 14  HasDependents   255347 non-null  object \n",
      " 15  LoanPurpose     255347 non-null  object \n",
      " 16  HasCoSigner     255347 non-null  object \n",
      " 17  Default         255347 non-null  int64  \n",
      "dtypes: float64(2), int64(8), object(8)\n",
      "memory usage: 35.1+ MB\n"
     ]
    }
   ],
   "source": [
    "#info\n",
    "loan_df.info()"
   ]
  },
  {
   "cell_type": "code",
   "execution_count": 5,
   "metadata": {},
   "outputs": [
    {
     "data": {
      "text/html": [
       "<div>\n",
       "<style scoped>\n",
       "    .dataframe tbody tr th:only-of-type {\n",
       "        vertical-align: middle;\n",
       "    }\n",
       "\n",
       "    .dataframe tbody tr th {\n",
       "        vertical-align: top;\n",
       "    }\n",
       "\n",
       "    .dataframe thead th {\n",
       "        text-align: right;\n",
       "    }\n",
       "</style>\n",
       "<table border=\"1\" class=\"dataframe\">\n",
       "  <thead>\n",
       "    <tr style=\"text-align: right;\">\n",
       "      <th></th>\n",
       "      <th>Age</th>\n",
       "      <th>Income</th>\n",
       "      <th>LoanAmount</th>\n",
       "      <th>CreditScore</th>\n",
       "      <th>MonthsEmployed</th>\n",
       "      <th>NumCreditLines</th>\n",
       "      <th>InterestRate</th>\n",
       "      <th>LoanTerm</th>\n",
       "      <th>DTIRatio</th>\n",
       "      <th>Default</th>\n",
       "    </tr>\n",
       "  </thead>\n",
       "  <tbody>\n",
       "    <tr>\n",
       "      <th>count</th>\n",
       "      <td>255347.000000</td>\n",
       "      <td>255347.000000</td>\n",
       "      <td>255347.000000</td>\n",
       "      <td>255347.000000</td>\n",
       "      <td>255347.000000</td>\n",
       "      <td>255347.000000</td>\n",
       "      <td>255347.000000</td>\n",
       "      <td>255347.000000</td>\n",
       "      <td>255347.000000</td>\n",
       "      <td>255347.000000</td>\n",
       "    </tr>\n",
       "    <tr>\n",
       "      <th>mean</th>\n",
       "      <td>43.498306</td>\n",
       "      <td>82499.304597</td>\n",
       "      <td>127578.865512</td>\n",
       "      <td>574.264346</td>\n",
       "      <td>59.541976</td>\n",
       "      <td>2.501036</td>\n",
       "      <td>13.492773</td>\n",
       "      <td>36.025894</td>\n",
       "      <td>0.500212</td>\n",
       "      <td>0.116128</td>\n",
       "    </tr>\n",
       "    <tr>\n",
       "      <th>std</th>\n",
       "      <td>14.990258</td>\n",
       "      <td>38963.013729</td>\n",
       "      <td>70840.706142</td>\n",
       "      <td>158.903867</td>\n",
       "      <td>34.643376</td>\n",
       "      <td>1.117018</td>\n",
       "      <td>6.636443</td>\n",
       "      <td>16.969330</td>\n",
       "      <td>0.230917</td>\n",
       "      <td>0.320379</td>\n",
       "    </tr>\n",
       "    <tr>\n",
       "      <th>min</th>\n",
       "      <td>18.000000</td>\n",
       "      <td>15000.000000</td>\n",
       "      <td>5000.000000</td>\n",
       "      <td>300.000000</td>\n",
       "      <td>0.000000</td>\n",
       "      <td>1.000000</td>\n",
       "      <td>2.000000</td>\n",
       "      <td>12.000000</td>\n",
       "      <td>0.100000</td>\n",
       "      <td>0.000000</td>\n",
       "    </tr>\n",
       "    <tr>\n",
       "      <th>25%</th>\n",
       "      <td>31.000000</td>\n",
       "      <td>48825.500000</td>\n",
       "      <td>66156.000000</td>\n",
       "      <td>437.000000</td>\n",
       "      <td>30.000000</td>\n",
       "      <td>2.000000</td>\n",
       "      <td>7.770000</td>\n",
       "      <td>24.000000</td>\n",
       "      <td>0.300000</td>\n",
       "      <td>0.000000</td>\n",
       "    </tr>\n",
       "    <tr>\n",
       "      <th>50%</th>\n",
       "      <td>43.000000</td>\n",
       "      <td>82466.000000</td>\n",
       "      <td>127556.000000</td>\n",
       "      <td>574.000000</td>\n",
       "      <td>60.000000</td>\n",
       "      <td>2.000000</td>\n",
       "      <td>13.460000</td>\n",
       "      <td>36.000000</td>\n",
       "      <td>0.500000</td>\n",
       "      <td>0.000000</td>\n",
       "    </tr>\n",
       "    <tr>\n",
       "      <th>75%</th>\n",
       "      <td>56.000000</td>\n",
       "      <td>116219.000000</td>\n",
       "      <td>188985.000000</td>\n",
       "      <td>712.000000</td>\n",
       "      <td>90.000000</td>\n",
       "      <td>3.000000</td>\n",
       "      <td>19.250000</td>\n",
       "      <td>48.000000</td>\n",
       "      <td>0.700000</td>\n",
       "      <td>0.000000</td>\n",
       "    </tr>\n",
       "    <tr>\n",
       "      <th>max</th>\n",
       "      <td>69.000000</td>\n",
       "      <td>149999.000000</td>\n",
       "      <td>249999.000000</td>\n",
       "      <td>849.000000</td>\n",
       "      <td>119.000000</td>\n",
       "      <td>4.000000</td>\n",
       "      <td>25.000000</td>\n",
       "      <td>60.000000</td>\n",
       "      <td>0.900000</td>\n",
       "      <td>1.000000</td>\n",
       "    </tr>\n",
       "  </tbody>\n",
       "</table>\n",
       "</div>"
      ],
      "text/plain": [
       "                 Age         Income     LoanAmount    CreditScore  \\\n",
       "count  255347.000000  255347.000000  255347.000000  255347.000000   \n",
       "mean       43.498306   82499.304597  127578.865512     574.264346   \n",
       "std        14.990258   38963.013729   70840.706142     158.903867   \n",
       "min        18.000000   15000.000000    5000.000000     300.000000   \n",
       "25%        31.000000   48825.500000   66156.000000     437.000000   \n",
       "50%        43.000000   82466.000000  127556.000000     574.000000   \n",
       "75%        56.000000  116219.000000  188985.000000     712.000000   \n",
       "max        69.000000  149999.000000  249999.000000     849.000000   \n",
       "\n",
       "       MonthsEmployed  NumCreditLines   InterestRate       LoanTerm  \\\n",
       "count   255347.000000   255347.000000  255347.000000  255347.000000   \n",
       "mean        59.541976        2.501036      13.492773      36.025894   \n",
       "std         34.643376        1.117018       6.636443      16.969330   \n",
       "min          0.000000        1.000000       2.000000      12.000000   \n",
       "25%         30.000000        2.000000       7.770000      24.000000   \n",
       "50%         60.000000        2.000000      13.460000      36.000000   \n",
       "75%         90.000000        3.000000      19.250000      48.000000   \n",
       "max        119.000000        4.000000      25.000000      60.000000   \n",
       "\n",
       "            DTIRatio        Default  \n",
       "count  255347.000000  255347.000000  \n",
       "mean        0.500212       0.116128  \n",
       "std         0.230917       0.320379  \n",
       "min         0.100000       0.000000  \n",
       "25%         0.300000       0.000000  \n",
       "50%         0.500000       0.000000  \n",
       "75%         0.700000       0.000000  \n",
       "max         0.900000       1.000000  "
      ]
     },
     "execution_count": 5,
     "metadata": {},
     "output_type": "execute_result"
    }
   ],
   "source": [
    "# get statistical information for the numerical values\n",
    "loan_df.describe()"
   ]
  },
  {
   "cell_type": "code",
   "execution_count": 6,
   "metadata": {},
   "outputs": [
    {
     "data": {
      "text/html": [
       "<div>\n",
       "<style scoped>\n",
       "    .dataframe tbody tr th:only-of-type {\n",
       "        vertical-align: middle;\n",
       "    }\n",
       "\n",
       "    .dataframe tbody tr th {\n",
       "        vertical-align: top;\n",
       "    }\n",
       "\n",
       "    .dataframe thead th {\n",
       "        text-align: right;\n",
       "    }\n",
       "</style>\n",
       "<table border=\"1\" class=\"dataframe\">\n",
       "  <thead>\n",
       "    <tr style=\"text-align: right;\">\n",
       "      <th></th>\n",
       "      <th>LoanID</th>\n",
       "      <th>Age</th>\n",
       "      <th>Income</th>\n",
       "      <th>LoanAmount</th>\n",
       "      <th>CreditScore</th>\n",
       "      <th>MonthsEmployed</th>\n",
       "      <th>NumCreditLines</th>\n",
       "      <th>InterestRate</th>\n",
       "      <th>LoanTerm</th>\n",
       "      <th>DTIRatio</th>\n",
       "      <th>Education</th>\n",
       "      <th>EmploymentType</th>\n",
       "      <th>MaritalStatus</th>\n",
       "      <th>HasMortgage</th>\n",
       "      <th>HasDependents</th>\n",
       "      <th>LoanPurpose</th>\n",
       "      <th>HasCoSigner</th>\n",
       "      <th>Default</th>\n",
       "    </tr>\n",
       "  </thead>\n",
       "  <tbody>\n",
       "    <tr>\n",
       "      <th>0</th>\n",
       "      <td>I38PQUQS96</td>\n",
       "      <td>56</td>\n",
       "      <td>85994</td>\n",
       "      <td>50587</td>\n",
       "      <td>520</td>\n",
       "      <td>80</td>\n",
       "      <td>4</td>\n",
       "      <td>15.23</td>\n",
       "      <td>36</td>\n",
       "      <td>0.44</td>\n",
       "      <td>Bachelor's</td>\n",
       "      <td>Full-time</td>\n",
       "      <td>Divorced</td>\n",
       "      <td>Yes</td>\n",
       "      <td>Yes</td>\n",
       "      <td>Other</td>\n",
       "      <td>Yes</td>\n",
       "      <td>0</td>\n",
       "    </tr>\n",
       "    <tr>\n",
       "      <th>1</th>\n",
       "      <td>HPSK72WA7R</td>\n",
       "      <td>69</td>\n",
       "      <td>50432</td>\n",
       "      <td>124440</td>\n",
       "      <td>458</td>\n",
       "      <td>15</td>\n",
       "      <td>1</td>\n",
       "      <td>4.81</td>\n",
       "      <td>60</td>\n",
       "      <td>0.68</td>\n",
       "      <td>Master's</td>\n",
       "      <td>Full-time</td>\n",
       "      <td>Married</td>\n",
       "      <td>No</td>\n",
       "      <td>No</td>\n",
       "      <td>Other</td>\n",
       "      <td>Yes</td>\n",
       "      <td>0</td>\n",
       "    </tr>\n",
       "    <tr>\n",
       "      <th>2</th>\n",
       "      <td>C1OZ6DPJ8Y</td>\n",
       "      <td>46</td>\n",
       "      <td>84208</td>\n",
       "      <td>129188</td>\n",
       "      <td>451</td>\n",
       "      <td>26</td>\n",
       "      <td>3</td>\n",
       "      <td>21.17</td>\n",
       "      <td>24</td>\n",
       "      <td>0.31</td>\n",
       "      <td>Master's</td>\n",
       "      <td>Unemployed</td>\n",
       "      <td>Divorced</td>\n",
       "      <td>Yes</td>\n",
       "      <td>Yes</td>\n",
       "      <td>Auto</td>\n",
       "      <td>No</td>\n",
       "      <td>1</td>\n",
       "    </tr>\n",
       "    <tr>\n",
       "      <th>3</th>\n",
       "      <td>V2KKSFM3UN</td>\n",
       "      <td>32</td>\n",
       "      <td>31713</td>\n",
       "      <td>44799</td>\n",
       "      <td>743</td>\n",
       "      <td>0</td>\n",
       "      <td>3</td>\n",
       "      <td>7.07</td>\n",
       "      <td>24</td>\n",
       "      <td>0.23</td>\n",
       "      <td>High School</td>\n",
       "      <td>Full-time</td>\n",
       "      <td>Married</td>\n",
       "      <td>No</td>\n",
       "      <td>No</td>\n",
       "      <td>Business</td>\n",
       "      <td>No</td>\n",
       "      <td>0</td>\n",
       "    </tr>\n",
       "    <tr>\n",
       "      <th>4</th>\n",
       "      <td>EY08JDHTZP</td>\n",
       "      <td>60</td>\n",
       "      <td>20437</td>\n",
       "      <td>9139</td>\n",
       "      <td>633</td>\n",
       "      <td>8</td>\n",
       "      <td>4</td>\n",
       "      <td>6.51</td>\n",
       "      <td>48</td>\n",
       "      <td>0.73</td>\n",
       "      <td>Bachelor's</td>\n",
       "      <td>Unemployed</td>\n",
       "      <td>Divorced</td>\n",
       "      <td>No</td>\n",
       "      <td>Yes</td>\n",
       "      <td>Auto</td>\n",
       "      <td>No</td>\n",
       "      <td>0</td>\n",
       "    </tr>\n",
       "  </tbody>\n",
       "</table>\n",
       "</div>"
      ],
      "text/plain": [
       "       LoanID  Age  Income  LoanAmount  CreditScore  MonthsEmployed  \\\n",
       "0  I38PQUQS96   56   85994       50587          520              80   \n",
       "1  HPSK72WA7R   69   50432      124440          458              15   \n",
       "2  C1OZ6DPJ8Y   46   84208      129188          451              26   \n",
       "3  V2KKSFM3UN   32   31713       44799          743               0   \n",
       "4  EY08JDHTZP   60   20437        9139          633               8   \n",
       "\n",
       "   NumCreditLines  InterestRate  LoanTerm  DTIRatio    Education  \\\n",
       "0               4         15.23        36      0.44   Bachelor's   \n",
       "1               1          4.81        60      0.68     Master's   \n",
       "2               3         21.17        24      0.31     Master's   \n",
       "3               3          7.07        24      0.23  High School   \n",
       "4               4          6.51        48      0.73   Bachelor's   \n",
       "\n",
       "  EmploymentType MaritalStatus HasMortgage HasDependents LoanPurpose  \\\n",
       "0      Full-time      Divorced         Yes           Yes       Other   \n",
       "1      Full-time       Married          No            No       Other   \n",
       "2     Unemployed      Divorced         Yes           Yes        Auto   \n",
       "3      Full-time       Married          No            No    Business   \n",
       "4     Unemployed      Divorced          No           Yes        Auto   \n",
       "\n",
       "  HasCoSigner  Default  \n",
       "0         Yes        0  \n",
       "1         Yes        0  \n",
       "2          No        1  \n",
       "3          No        0  \n",
       "4          No        0  "
      ]
     },
     "execution_count": 6,
     "metadata": {},
     "output_type": "execute_result"
    }
   ],
   "source": [
    "loan_df.head()"
   ]
  },
  {
   "cell_type": "code",
   "execution_count": 7,
   "metadata": {},
   "outputs": [
    {
     "data": {
      "text/plain": [
       "LoanID            0\n",
       "Age               0\n",
       "Income            0\n",
       "LoanAmount        0\n",
       "CreditScore       0\n",
       "MonthsEmployed    0\n",
       "NumCreditLines    0\n",
       "InterestRate      0\n",
       "LoanTerm          0\n",
       "DTIRatio          0\n",
       "Education         0\n",
       "EmploymentType    0\n",
       "MaritalStatus     0\n",
       "HasMortgage       0\n",
       "HasDependents     0\n",
       "LoanPurpose       0\n",
       "HasCoSigner       0\n",
       "Default           0\n",
       "dtype: int64"
      ]
     },
     "execution_count": 7,
     "metadata": {},
     "output_type": "execute_result"
    }
   ],
   "source": [
    "#check if there are nulls\n",
    "loan_df.isnull().sum()"
   ]
  },
  {
   "cell_type": "code",
   "execution_count": 8,
   "metadata": {},
   "outputs": [
    {
     "data": {
      "text/plain": [
       "0"
      ]
     },
     "execution_count": 8,
     "metadata": {},
     "output_type": "execute_result"
    }
   ],
   "source": [
    "#check for duplicates\n",
    "loan_df.duplicated().sum()"
   ]
  },
  {
   "cell_type": "markdown",
   "metadata": {},
   "source": [
    "### Visualizations"
   ]
  },
  {
   "cell_type": "code",
   "execution_count": 9,
   "metadata": {},
   "outputs": [
    {
     "data": {
      "image/png": "[encoded data removed]",
      "text/plain": [
       "<Figure size 1000x1000 with 10 Axes>"
      ]
     },
     "metadata": {},
     "output_type": "display_data"
    }
   ],
   "source": [
    "#plot the distribution of numerical values\n",
    "columns = loan_df.columns\n",
    "fig, axs = plt.subplots(5, 2, figsize=(10, 10))\n",
    "sns.boxplot(loan_df.iloc[:,1],ax=axs[0, 0],orient='h').set_title(columns[1])\n",
    "sns.boxplot(loan_df.iloc[:,2],ax=axs[0, 1],orient='h').set_title(columns[2])\n",
    "sns.boxplot(loan_df.iloc[:,3],ax=axs[1, 0],orient='h').set_title(columns[3])\n",
    "sns.boxplot(loan_df.iloc[:,4],ax=axs[1, 1],orient='h').set_title(columns[4])\n",
    "sns.boxplot(loan_df.iloc[:,5],ax=axs[2, 0],orient='h').set_title(columns[5])\n",
    "sns.boxplot(loan_df.iloc[:,6],ax=axs[2, 1],orient='h').set_title(columns[6])\n",
    "sns.boxplot(loan_df.iloc[:,7],ax=axs[3, 0],orient='h').set_title(columns[7])\n",
    "sns.boxplot(loan_df.iloc[:,8],ax=axs[3, 1],orient='h').set_title(columns[8])\n",
    "sns.boxplot(loan_df.iloc[:,9],ax=axs[4, 0],orient='h').set_title(columns[9])\n",
    "fig.tight_layout()"
   ]
  },
  {
   "cell_type": "code",
   "execution_count": 10,
   "metadata": {},
   "outputs": [
    {
     "data": {
      "text/html": [
       "<div>\n",
       "<style scoped>\n",
       "    .dataframe tbody tr th:only-of-type {\n",
       "        vertical-align: middle;\n",
       "    }\n",
       "\n",
       "    .dataframe tbody tr th {\n",
       "        vertical-align: top;\n",
       "    }\n",
       "\n",
       "    .dataframe thead tr th {\n",
       "        text-align: left;\n",
       "    }\n",
       "\n",
       "    .dataframe thead tr:last-of-type th {\n",
       "        text-align: right;\n",
       "    }\n",
       "</style>\n",
       "<table border=\"1\" class=\"dataframe\">\n",
       "  <thead>\n",
       "    <tr>\n",
       "      <th></th>\n",
       "      <th colspan=\"2\" halign=\"left\">InterestRate</th>\n",
       "      <th colspan=\"2\" halign=\"left\">LoanAmount</th>\n",
       "      <th colspan=\"2\" halign=\"left\">NumCreditLines</th>\n",
       "    </tr>\n",
       "    <tr>\n",
       "      <th></th>\n",
       "      <th>mean</th>\n",
       "      <th>std</th>\n",
       "      <th>mean</th>\n",
       "      <th>std</th>\n",
       "      <th>mean</th>\n",
       "      <th>std</th>\n",
       "    </tr>\n",
       "    <tr>\n",
       "      <th>Default</th>\n",
       "      <th></th>\n",
       "      <th></th>\n",
       "      <th></th>\n",
       "      <th></th>\n",
       "      <th></th>\n",
       "      <th></th>\n",
       "    </tr>\n",
       "  </thead>\n",
       "  <tbody>\n",
       "    <tr>\n",
       "      <th>0</th>\n",
       "      <td>13.18</td>\n",
       "      <td>6.61</td>\n",
       "      <td>125353.66</td>\n",
       "      <td>70708.10</td>\n",
       "      <td>2.49</td>\n",
       "      <td>1.12</td>\n",
       "    </tr>\n",
       "    <tr>\n",
       "      <th>1</th>\n",
       "      <td>15.90</td>\n",
       "      <td>6.32</td>\n",
       "      <td>144515.31</td>\n",
       "      <td>69547.82</td>\n",
       "      <td>2.59</td>\n",
       "      <td>1.12</td>\n",
       "    </tr>\n",
       "  </tbody>\n",
       "</table>\n",
       "</div>"
      ],
      "text/plain": [
       "        InterestRate       LoanAmount           NumCreditLines      \n",
       "                mean   std       mean       std           mean   std\n",
       "Default                                                             \n",
       "0              13.18  6.61  125353.66  70708.10           2.49  1.12\n",
       "1              15.90  6.32  144515.31  69547.82           2.59  1.12"
      ]
     },
     "execution_count": 10,
     "metadata": {},
     "output_type": "execute_result"
    }
   ],
   "source": [
    "# Check if our observations from the visualizations are correct\n",
    "np.round(loan_df.pivot_table(index='Default',values=['InterestRate','LoanAmount','NumCreditLines'],aggfunc=('mean','std')),2)"
   ]
  },
  {
   "cell_type": "code",
   "execution_count": 11,
   "metadata": {},
   "outputs": [
    {
     "data": {
      "text/html": [
       "<div>\n",
       "<style scoped>\n",
       "    .dataframe tbody tr th:only-of-type {\n",
       "        vertical-align: middle;\n",
       "    }\n",
       "\n",
       "    .dataframe tbody tr th {\n",
       "        vertical-align: top;\n",
       "    }\n",
       "\n",
       "    .dataframe thead tr th {\n",
       "        text-align: left;\n",
       "    }\n",
       "\n",
       "    .dataframe thead tr:last-of-type th {\n",
       "        text-align: right;\n",
       "    }\n",
       "</style>\n",
       "<table border=\"1\" class=\"dataframe\">\n",
       "  <thead>\n",
       "    <tr>\n",
       "      <th></th>\n",
       "      <th colspan=\"2\" halign=\"left\">Age</th>\n",
       "      <th colspan=\"2\" halign=\"left\">Income</th>\n",
       "      <th colspan=\"2\" halign=\"left\">MonthsEmployed</th>\n",
       "    </tr>\n",
       "    <tr>\n",
       "      <th></th>\n",
       "      <th>mean</th>\n",
       "      <th>std</th>\n",
       "      <th>mean</th>\n",
       "      <th>std</th>\n",
       "      <th>mean</th>\n",
       "      <th>std</th>\n",
       "    </tr>\n",
       "    <tr>\n",
       "      <th>Default</th>\n",
       "      <th></th>\n",
       "      <th></th>\n",
       "      <th></th>\n",
       "      <th></th>\n",
       "      <th></th>\n",
       "      <th></th>\n",
       "    </tr>\n",
       "  </thead>\n",
       "  <tbody>\n",
       "    <tr>\n",
       "      <th>0</th>\n",
       "      <td>44.41</td>\n",
       "      <td>14.89</td>\n",
       "      <td>83899.17</td>\n",
       "      <td>38498.8</td>\n",
       "      <td>60.76</td>\n",
       "      <td>34.56</td>\n",
       "    </tr>\n",
       "    <tr>\n",
       "      <th>1</th>\n",
       "      <td>36.56</td>\n",
       "      <td>13.90</td>\n",
       "      <td>71844.72</td>\n",
       "      <td>40785.1</td>\n",
       "      <td>50.24</td>\n",
       "      <td>33.88</td>\n",
       "    </tr>\n",
       "  </tbody>\n",
       "</table>\n",
       "</div>"
      ],
      "text/plain": [
       "           Age           Income          MonthsEmployed       \n",
       "          mean    std      mean      std           mean    std\n",
       "Default                                                       \n",
       "0        44.41  14.89  83899.17  38498.8          60.76  34.56\n",
       "1        36.56  13.90  71844.72  40785.1          50.24  33.88"
      ]
     },
     "execution_count": 11,
     "metadata": {},
     "output_type": "execute_result"
    }
   ],
   "source": [
    "# Check if our observations are correct\n",
    "np.round(loan_df.pivot_table(index='Default',values=['Age','Income','MonthsEmployed'],aggfunc=('mean','std')),2)"
   ]
  },
  {
   "cell_type": "code",
   "execution_count": 12,
   "metadata": {},
   "outputs": [
    {
     "data": {
      "text/plain": [
       "Default\n",
       "0    225694\n",
       "1     29653\n",
       "Name: count, dtype: int64"
      ]
     },
     "execution_count": 12,
     "metadata": {},
     "output_type": "execute_result"
    }
   ],
   "source": [
    "#default counts\n",
    "CNT=loan_df['Default'].value_counts()\n",
    "CNT"
   ]
  },
  {
   "cell_type": "code",
   "execution_count": 13,
   "metadata": {},
   "outputs": [
    {
     "data": {
      "text/plain": [
       "Text(0.5, 1.0, 'The number of defaulters and non_defaulters')"
      ]
     },
     "execution_count": 13,
     "metadata": {},
     "output_type": "execute_result"
    },
    {
     "data": {
      "image/png": "[encoded data removed]",
      "text/plain": [
       "<Figure size 640x480 with 1 Axes>"
      ]
     },
     "metadata": {},
     "output_type": "display_data"
    }
   ],
   "source": [
    "#bar plot of the number of defaulters and non_defaulters\n",
    "sns.countplot(data=loan_df,x='Default')\n",
    "plt.title('The number of defaulters and non_defaulters')"
   ]
  },
  {
   "cell_type": "markdown",
   "metadata": {},
   "source": [
    "### Preprocessing"
   ]
  },
  {
   "cell_type": "code",
   "execution_count": 14,
   "metadata": {},
   "outputs": [],
   "source": [
    "#Handling categorical values\n",
    "#picking categorical columns and encoding them\n",
    "categorical_columns = ['Education', 'EmploymentType', 'MaritalStatus', 'HasMortgage', 'HasDependents', 'LoanPurpose', 'HasCoSigner']\n",
    "\n",
    "# Initializing LabelEncoder\n",
    "label_encoder = LabelEncoder()\n",
    "\n",
    "# Encoding categorical columns\n",
    "for col in categorical_columns:\n",
    "    loan_df[col] = label_encoder.fit_transform(loan_df[col])"
   ]
  },
  {
   "cell_type": "code",
   "execution_count": 15,
   "metadata": {},
   "outputs": [
    {
     "data": {
      "text/html": [
       "<div>\n",
       "<style scoped>\n",
       "    .dataframe tbody tr th:only-of-type {\n",
       "        vertical-align: middle;\n",
       "    }\n",
       "\n",
       "    .dataframe tbody tr th {\n",
       "        vertical-align: top;\n",
       "    }\n",
       "\n",
       "    .dataframe thead th {\n",
       "        text-align: right;\n",
       "    }\n",
       "</style>\n",
       "<table border=\"1\" class=\"dataframe\">\n",
       "  <thead>\n",
       "    <tr style=\"text-align: right;\">\n",
       "      <th></th>\n",
       "      <th>Age</th>\n",
       "      <th>Income</th>\n",
       "      <th>LoanAmount</th>\n",
       "      <th>CreditScore</th>\n",
       "      <th>MonthsEmployed</th>\n",
       "      <th>NumCreditLines</th>\n",
       "      <th>InterestRate</th>\n",
       "      <th>LoanTerm</th>\n",
       "      <th>DTIRatio</th>\n",
       "      <th>Education</th>\n",
       "      <th>EmploymentType</th>\n",
       "      <th>MaritalStatus</th>\n",
       "      <th>HasMortgage</th>\n",
       "      <th>HasDependents</th>\n",
       "      <th>LoanPurpose</th>\n",
       "      <th>HasCoSigner</th>\n",
       "      <th>Default</th>\n",
       "    </tr>\n",
       "  </thead>\n",
       "  <tbody>\n",
       "    <tr>\n",
       "      <th>0</th>\n",
       "      <td>56</td>\n",
       "      <td>85994</td>\n",
       "      <td>50587</td>\n",
       "      <td>520</td>\n",
       "      <td>80</td>\n",
       "      <td>4</td>\n",
       "      <td>15.23</td>\n",
       "      <td>36</td>\n",
       "      <td>0.44</td>\n",
       "      <td>0</td>\n",
       "      <td>0</td>\n",
       "      <td>0</td>\n",
       "      <td>1</td>\n",
       "      <td>1</td>\n",
       "      <td>4</td>\n",
       "      <td>1</td>\n",
       "      <td>0</td>\n",
       "    </tr>\n",
       "    <tr>\n",
       "      <th>1</th>\n",
       "      <td>69</td>\n",
       "      <td>50432</td>\n",
       "      <td>124440</td>\n",
       "      <td>458</td>\n",
       "      <td>15</td>\n",
       "      <td>1</td>\n",
       "      <td>4.81</td>\n",
       "      <td>60</td>\n",
       "      <td>0.68</td>\n",
       "      <td>2</td>\n",
       "      <td>0</td>\n",
       "      <td>1</td>\n",
       "      <td>0</td>\n",
       "      <td>0</td>\n",
       "      <td>4</td>\n",
       "      <td>1</td>\n",
       "      <td>0</td>\n",
       "    </tr>\n",
       "    <tr>\n",
       "      <th>2</th>\n",
       "      <td>46</td>\n",
       "      <td>84208</td>\n",
       "      <td>129188</td>\n",
       "      <td>451</td>\n",
       "      <td>26</td>\n",
       "      <td>3</td>\n",
       "      <td>21.17</td>\n",
       "      <td>24</td>\n",
       "      <td>0.31</td>\n",
       "      <td>2</td>\n",
       "      <td>3</td>\n",
       "      <td>0</td>\n",
       "      <td>1</td>\n",
       "      <td>1</td>\n",
       "      <td>0</td>\n",
       "      <td>0</td>\n",
       "      <td>1</td>\n",
       "    </tr>\n",
       "    <tr>\n",
       "      <th>3</th>\n",
       "      <td>32</td>\n",
       "      <td>31713</td>\n",
       "      <td>44799</td>\n",
       "      <td>743</td>\n",
       "      <td>0</td>\n",
       "      <td>3</td>\n",
       "      <td>7.07</td>\n",
       "      <td>24</td>\n",
       "      <td>0.23</td>\n",
       "      <td>1</td>\n",
       "      <td>0</td>\n",
       "      <td>1</td>\n",
       "      <td>0</td>\n",
       "      <td>0</td>\n",
       "      <td>1</td>\n",
       "      <td>0</td>\n",
       "      <td>0</td>\n",
       "    </tr>\n",
       "    <tr>\n",
       "      <th>4</th>\n",
       "      <td>60</td>\n",
       "      <td>20437</td>\n",
       "      <td>9139</td>\n",
       "      <td>633</td>\n",
       "      <td>8</td>\n",
       "      <td>4</td>\n",
       "      <td>6.51</td>\n",
       "      <td>48</td>\n",
       "      <td>0.73</td>\n",
       "      <td>0</td>\n",
       "      <td>3</td>\n",
       "      <td>0</td>\n",
       "      <td>0</td>\n",
       "      <td>1</td>\n",
       "      <td>0</td>\n",
       "      <td>0</td>\n",
       "      <td>0</td>\n",
       "    </tr>\n",
       "  </tbody>\n",
       "</table>\n",
       "</div>"
      ],
      "text/plain": [
       "   Age  Income  LoanAmount  CreditScore  MonthsEmployed  NumCreditLines  \\\n",
       "0   56   85994       50587          520              80               4   \n",
       "1   69   50432      124440          458              15               1   \n",
       "2   46   84208      129188          451              26               3   \n",
       "3   32   31713       44799          743               0               3   \n",
       "4   60   20437        9139          633               8               4   \n",
       "\n",
       "   InterestRate  LoanTerm  DTIRatio  Education  EmploymentType  MaritalStatus  \\\n",
       "0         15.23        36      0.44          0               0              0   \n",
       "1          4.81        60      0.68          2               0              1   \n",
       "2         21.17        24      0.31          2               3              0   \n",
       "3          7.07        24      0.23          1               0              1   \n",
       "4          6.51        48      0.73          0               3              0   \n",
       "\n",
       "   HasMortgage  HasDependents  LoanPurpose  HasCoSigner  Default  \n",
       "0            1              1            4            1        0  \n",
       "1            0              0            4            1        0  \n",
       "2            1              1            0            0        1  \n",
       "3            0              0            1            0        0  \n",
       "4            0              1            0            0        0  "
      ]
     },
     "execution_count": 15,
     "metadata": {},
     "output_type": "execute_result"
    }
   ],
   "source": [
    "#drop unnessary columns\n",
    "load_df = loan_df.drop(['LoanID'],axis=1, inplace=True)\n",
    "loan_df.head()"
   ]
  },
  {
   "cell_type": "markdown",
   "metadata": {},
   "source": [
    "### The dataset is imbalance hence downsampling"
   ]
  },
  {
   "cell_type": "code",
   "execution_count": 16,
   "metadata": {},
   "outputs": [
    {
     "name": "stdout",
     "output_type": "stream",
     "text": [
      "(225694, 17)\n",
      "(29653, 17)\n"
     ]
    }
   ],
   "source": [
    "loan_df0 = loan_df[loan_df[\"Default\"] == 0]\n",
    "loan_df1  = loan_df[loan_df[\"Default\"] == 1]\n",
    "print(loan_df0.shape)\n",
    "print(loan_df1.shape)"
   ]
  },
  {
   "cell_type": "code",
   "execution_count": 17,
   "metadata": {},
   "outputs": [
    {
     "name": "stdout",
     "output_type": "stream",
     "text": [
      "(29653, 17)\n"
     ]
    }
   ],
   "source": [
    "from sklearn.utils import resample\n",
    "loan_df0_ds = resample(loan_df0,\n",
    "             replace=True,\n",
    "             n_samples=len(loan_df1),\n",
    "             random_state=42)\n",
    "\n",
    "print(loan_df0_ds.shape)"
   ]
  },
  {
   "cell_type": "code",
   "execution_count": 18,
   "metadata": {},
   "outputs": [
    {
     "name": "stdout",
     "output_type": "stream",
     "text": [
      "Default\n",
      "0    29653\n",
      "1    29653\n",
      "Name: count, dtype: int64\n"
     ]
    },
    {
     "data": {
      "text/plain": [
       "<Axes: ylabel='Type'>"
      ]
     },
     "execution_count": 18,
     "metadata": {},
     "output_type": "execute_result"
    },
    {
     "data": {
      "image/png": "[encoded data removed]",
      "text/plain": [
       "<Figure size 640x480 with 1 Axes>"
      ]
     },
     "metadata": {},
     "output_type": "display_data"
    }
   ],
   "source": [
    "data_downsampled = pd.concat([loan_df0_ds, loan_df1])\n",
    "\n",
    "print(data_downsampled[\"Default\"].value_counts())\n",
    "\n",
    "data_downsampled.groupby('Default').size().plot(kind='pie',\n",
    "                                       y = \"v1\",\n",
    "                                       label = \"Type\",\n",
    "                                       autopct='%1.1f%%')"
   ]
  },
  {
   "cell_type": "markdown",
   "metadata": {},
   "source": [
    "### Feature scaling"
   ]
  },
  {
   "cell_type": "code",
   "execution_count": 19,
   "metadata": {},
   "outputs": [
    {
     "data": {
      "text/html": [
       "<div>\n",
       "<style scoped>\n",
       "    .dataframe tbody tr th:only-of-type {\n",
       "        vertical-align: middle;\n",
       "    }\n",
       "\n",
       "    .dataframe tbody tr th {\n",
       "        vertical-align: top;\n",
       "    }\n",
       "\n",
       "    .dataframe thead th {\n",
       "        text-align: right;\n",
       "    }\n",
       "</style>\n",
       "<table border=\"1\" class=\"dataframe\">\n",
       "  <thead>\n",
       "    <tr style=\"text-align: right;\">\n",
       "      <th></th>\n",
       "      <th>Age</th>\n",
       "      <th>Income</th>\n",
       "      <th>LoanAmount</th>\n",
       "      <th>CreditScore</th>\n",
       "      <th>MonthsEmployed</th>\n",
       "      <th>NumCreditLines</th>\n",
       "      <th>InterestRate</th>\n",
       "      <th>LoanTerm</th>\n",
       "      <th>DTIRatio</th>\n",
       "      <th>Education</th>\n",
       "      <th>EmploymentType</th>\n",
       "      <th>MaritalStatus</th>\n",
       "      <th>HasMortgage</th>\n",
       "      <th>HasDependents</th>\n",
       "      <th>LoanPurpose</th>\n",
       "      <th>HasCoSigner</th>\n",
       "    </tr>\n",
       "  </thead>\n",
       "  <tbody>\n",
       "    <tr>\n",
       "      <th>0</th>\n",
       "      <td>-0.502430</td>\n",
       "      <td>-1.087166</td>\n",
       "      <td>-0.914909</td>\n",
       "      <td>1.122836</td>\n",
       "      <td>-0.216213</td>\n",
       "      <td>1.305486</td>\n",
       "      <td>-1.406425</td>\n",
       "      <td>0.701972</td>\n",
       "      <td>-1.498192</td>\n",
       "      <td>1.379158</td>\n",
       "      <td>0.397810</td>\n",
       "      <td>1.222644</td>\n",
       "      <td>-0.971505</td>\n",
       "      <td>-0.959151</td>\n",
       "      <td>-0.695899</td>\n",
       "      <td>-0.956110</td>\n",
       "    </tr>\n",
       "    <tr>\n",
       "      <th>1</th>\n",
       "      <td>-0.904168</td>\n",
       "      <td>0.288620</td>\n",
       "      <td>-0.811069</td>\n",
       "      <td>1.103964</td>\n",
       "      <td>1.404180</td>\n",
       "      <td>-1.378003</td>\n",
       "      <td>1.512560</td>\n",
       "      <td>1.409805</td>\n",
       "      <td>0.888823</td>\n",
       "      <td>-1.315989</td>\n",
       "      <td>-1.395752</td>\n",
       "      <td>-1.200580</td>\n",
       "      <td>1.029331</td>\n",
       "      <td>-0.959151</td>\n",
       "      <td>1.421467</td>\n",
       "      <td>1.045905</td>\n",
       "    </tr>\n",
       "    <tr>\n",
       "      <th>2</th>\n",
       "      <td>1.573217</td>\n",
       "      <td>0.651875</td>\n",
       "      <td>0.796399</td>\n",
       "      <td>-0.135284</td>\n",
       "      <td>-0.071535</td>\n",
       "      <td>-0.483507</td>\n",
       "      <td>-1.339671</td>\n",
       "      <td>0.701972</td>\n",
       "      <td>-0.543386</td>\n",
       "      <td>0.480775</td>\n",
       "      <td>-0.498971</td>\n",
       "      <td>1.222644</td>\n",
       "      <td>-0.971505</td>\n",
       "      <td>-0.959151</td>\n",
       "      <td>0.009890</td>\n",
       "      <td>1.045905</td>\n",
       "    </tr>\n",
       "    <tr>\n",
       "      <th>3</th>\n",
       "      <td>0.100177</td>\n",
       "      <td>0.574495</td>\n",
       "      <td>-1.323781</td>\n",
       "      <td>-1.475181</td>\n",
       "      <td>0.507177</td>\n",
       "      <td>-0.483507</td>\n",
       "      <td>-0.414213</td>\n",
       "      <td>0.701972</td>\n",
       "      <td>-1.107590</td>\n",
       "      <td>1.379158</td>\n",
       "      <td>1.294591</td>\n",
       "      <td>1.222644</td>\n",
       "      <td>1.029331</td>\n",
       "      <td>-0.959151</td>\n",
       "      <td>1.421467</td>\n",
       "      <td>-0.956110</td>\n",
       "    </tr>\n",
       "    <tr>\n",
       "      <th>4</th>\n",
       "      <td>-0.234605</td>\n",
       "      <td>0.556234</td>\n",
       "      <td>0.921245</td>\n",
       "      <td>-0.399489</td>\n",
       "      <td>-0.621312</td>\n",
       "      <td>1.305486</td>\n",
       "      <td>-0.729779</td>\n",
       "      <td>-1.421525</td>\n",
       "      <td>-1.064189</td>\n",
       "      <td>-1.315989</td>\n",
       "      <td>1.294591</td>\n",
       "      <td>1.222644</td>\n",
       "      <td>-0.971505</td>\n",
       "      <td>-0.959151</td>\n",
       "      <td>0.009890</td>\n",
       "      <td>-0.956110</td>\n",
       "    </tr>\n",
       "  </tbody>\n",
       "</table>\n",
       "</div>"
      ],
      "text/plain": [
       "        Age    Income  LoanAmount  CreditScore  MonthsEmployed  \\\n",
       "0 -0.502430 -1.087166   -0.914909     1.122836       -0.216213   \n",
       "1 -0.904168  0.288620   -0.811069     1.103964        1.404180   \n",
       "2  1.573217  0.651875    0.796399    -0.135284       -0.071535   \n",
       "3  0.100177  0.574495   -1.323781    -1.475181        0.507177   \n",
       "4 -0.234605  0.556234    0.921245    -0.399489       -0.621312   \n",
       "\n",
       "   NumCreditLines  InterestRate  LoanTerm  DTIRatio  Education  \\\n",
       "0        1.305486     -1.406425  0.701972 -1.498192   1.379158   \n",
       "1       -1.378003      1.512560  1.409805  0.888823  -1.315989   \n",
       "2       -0.483507     -1.339671  0.701972 -0.543386   0.480775   \n",
       "3       -0.483507     -0.414213  0.701972 -1.107590   1.379158   \n",
       "4        1.305486     -0.729779 -1.421525 -1.064189  -1.315989   \n",
       "\n",
       "   EmploymentType  MaritalStatus  HasMortgage  HasDependents  LoanPurpose  \\\n",
       "0        0.397810       1.222644    -0.971505      -0.959151    -0.695899   \n",
       "1       -1.395752      -1.200580     1.029331      -0.959151     1.421467   \n",
       "2       -0.498971       1.222644    -0.971505      -0.959151     0.009890   \n",
       "3        1.294591       1.222644     1.029331      -0.959151     1.421467   \n",
       "4        1.294591       1.222644    -0.971505      -0.959151     0.009890   \n",
       "\n",
       "   HasCoSigner  \n",
       "0    -0.956110  \n",
       "1     1.045905  \n",
       "2     1.045905  \n",
       "3    -0.956110  \n",
       "4    -0.956110  "
      ]
     },
     "execution_count": 19,
     "metadata": {},
     "output_type": "execute_result"
    }
   ],
   "source": [
    "from sklearn.preprocessing import StandardScaler\n",
    "\n",
    "scaler = StandardScaler()\n",
    "data_scaled = pd.DataFrame(scaler.fit_transform(data_downsampled.drop('Default', axis=1)), columns=data_downsampled.columns[:-1])\n",
    "data_scaled.head(5)"
   ]
  },
  {
   "cell_type": "markdown",
   "metadata": {},
   "source": [
    "## Step 3: Split Data into Training and Testing Sets"
   ]
  },
  {
   "cell_type": "code",
   "execution_count": 20,
   "metadata": {},
   "outputs": [
    {
     "name": "stdout",
     "output_type": "stream",
     "text": [
      "x_train: (47444, 16)\n",
      "y_train: (47444,)\n",
      "x_test: (11862, 16)\n",
      "y_test: (11862,)\n"
     ]
    }
   ],
   "source": [
    "# Split Dataset into train and test dataset\n",
    "X = data_scaled\n",
    "y = data_downsampled['Default']\n",
    "X_train, X_test, y_train, y_test = train_test_split(X, y, test_size=0.2, random_state=42)\n",
    "\n",
    "print('x_train:',X_train.shape)\n",
    "print('y_train:',y_train.shape)\n",
    "print('x_test:',X_test.shape)\n",
    "print('y_test:',y_test.shape)"
   ]
  },
  {
   "cell_type": "markdown",
   "metadata": {},
   "source": [
    "### Train and Evaluate Models"
   ]
  },
  {
   "cell_type": "code",
   "execution_count": 21,
   "metadata": {},
   "outputs": [
    {
     "name": "stdout",
     "output_type": "stream",
     "text": [
      "Logistic Regression: 0.6791434833923453\n",
      "K-Nearest Neighbors: 0.6191198786039454\n",
      "Decision Trees: 0.60900354071826\n",
      "Random Forests: 0.6967627718765806\n"
     ]
    }
   ],
   "source": [
    "models = {\n",
    "    \"Logistic Regression\": LogisticRegression(),\n",
    "    \"K-Nearest Neighbors\": KNeighborsClassifier(),\n",
    "#     \"Support Vector Machines\": SVC(),\n",
    "    \"Decision Trees\": DecisionTreeClassifier(),\n",
    "    \"Random Forests\": RandomForestClassifier()\n",
    "}\n",
    "\n",
    "for name, model in models.items():\n",
    "    model.fit(X_train, y_train)\n",
    "    print(f\"{name}: {model.score(X_test, y_test)}\")"
   ]
  },
  {
   "cell_type": "markdown",
   "metadata": {},
   "source": [
    "### Random Forest Classifier"
   ]
  },
  {
   "cell_type": "code",
   "execution_count": 22,
   "metadata": {},
   "outputs": [
    {
     "name": "stdout",
     "output_type": "stream",
     "text": [
      "Random Forest accuracy: 0.6951610183780138\n"
     ]
    }
   ],
   "source": [
    "\n",
    "rf_clf = RandomForestClassifier(n_estimators=100,  random_state=42)\n",
    "\n",
    "# Train and evaluate:\n",
    "rf_clf.fit(X_train, y_train)\n",
    "y_pred = rf_clf.predict(X_test)\n",
    "random_accuracy = accuracy_score(y_test, y_pred)\n",
    "print(\"Random Forest accuracy:\", random_accuracy)"
   ]
  },
  {
   "cell_type": "markdown",
   "metadata": {},
   "source": [
    "### Decision Tree"
   ]
  },
  {
   "cell_type": "code",
   "execution_count": 23,
   "metadata": {},
   "outputs": [
    {
     "name": "stdout",
     "output_type": "stream",
     "text": [
      "Decision Tree accuracy: 0.6078233012982633\n"
     ]
    }
   ],
   "source": [
    "dt_clf = DecisionTreeClassifier(random_state=42)\n",
    "\n",
    "# Train and evaluate:\n",
    "dt_clf.fit(X_train, y_train)\n",
    "y_pred = dt_clf.predict(X_test)\n",
    "dt_accuracy = accuracy_score(y_test, y_pred)\n",
    "print(\"Decision Tree accuracy:\", dt_accuracy)"
   ]
  },
  {
   "cell_type": "markdown",
   "metadata": {},
   "source": [
    "### Logistic Regression"
   ]
  },
  {
   "cell_type": "code",
   "execution_count": 24,
   "metadata": {},
   "outputs": [
    {
     "name": "stdout",
     "output_type": "stream",
     "text": [
      "Logistic regression accuracy: 0.6791434833923453\n"
     ]
    }
   ],
   "source": [
    "lr_clf = LogisticRegression(random_state=42)\n",
    "\n",
    "# Train and evaluate:\n",
    "lr_clf.fit(X_train, y_train)\n",
    "y_pred = lr_clf.predict(X_test)\n",
    "lr_accuracy = accuracy_score(y_test, y_pred)\n",
    "print(\"Logistic regression accuracy:\", lr_accuracy)"
   ]
  },
  {
   "cell_type": "markdown",
   "metadata": {},
   "source": [
    "### K-Nearest Neighbors"
   ]
  },
  {
   "cell_type": "code",
   "execution_count": 25,
   "metadata": {},
   "outputs": [
    {
     "name": "stdout",
     "output_type": "stream",
     "text": [
      "K-Nearest Neighbors accuracy: 0.6191198786039454\n"
     ]
    }
   ],
   "source": [
    "knn_clf = KNeighborsClassifier()\n",
    "# Train and evaluate:\n",
    "knn_clf.fit(X_train, y_train)\n",
    "y_pred = knn_clf.predict(X_test)\n",
    "knn_accuracy = accuracy_score(y_test, y_pred)\n",
    "print(\"K-Nearest Neighbors accuracy:\", knn_accuracy)"
   ]
  },
  {
   "cell_type": "markdown",
   "metadata": {},
   "source": [
    "## ML models - Ensemble methods\n",
    "\n",
    "#### Ensemble methods\n",
    "* Bagging\n",
    "* Boosting\n",
    "* Stacking\n",
    "* Voting"
   ]
  },
  {
   "cell_type": "markdown",
   "metadata": {},
   "source": [
    "### Bagging Method"
   ]
  },
  {
   "cell_type": "code",
   "execution_count": 26,
   "metadata": {},
   "outputs": [
    {
     "name": "stderr",
     "output_type": "stream",
     "text": [
      "C:\\Users\\Lenovo\\anaconda3\\envs\\loan_default_prediction\\lib\\site-packages\\sklearn\\ensemble\\_base.py:166: FutureWarning: `base_estimator` was renamed to `estimator` in version 1.2 and will be removed in 1.4.\n",
      "  warnings.warn(\n"
     ]
    },
    {
     "name": "stdout",
     "output_type": "stream",
     "text": [
      "Bagging accuracy: 0.6884167931208902\n"
     ]
    }
   ],
   "source": [
    "# Create a base classifier (e.g., DecisionTreeClassifier):\n",
    "base_clf = DecisionTreeClassifier()\n",
    "\n",
    "# Create the bagging classifier:\n",
    "bagging_clf = BaggingClassifier(base_estimator=base_clf, n_estimators=100, random_state=42)\n",
    "\n",
    "# Train and evaluate (similar to Voting):\n",
    "bagging_clf.fit(X_train, y_train)\n",
    "y_pred = bagging_clf.predict(X_test)\n",
    "bagging_accuracy = accuracy_score(y_test, y_pred)\n",
    "print(\"Bagging accuracy:\", bagging_accuracy)\n"
   ]
  },
  {
   "cell_type": "markdown",
   "metadata": {},
   "source": [
    "### Boosting method"
   ]
  },
  {
   "cell_type": "code",
   "execution_count": 27,
   "metadata": {},
   "outputs": [
    {
     "name": "stdout",
     "output_type": "stream",
     "text": [
      "Boosting accuracy: 0.6903557578823133\n"
     ]
    }
   ],
   "source": [
    "gb_clf = GradientBoostingClassifier(n_estimators=100, learning_rate=0.1, random_state=42)\n",
    "gb_clf.fit(X_train, y_train)\n",
    "y_pred = gb_clf.predict(X_test)\n",
    "boosting_accuracy = accuracy_score(y_test, y_pred)\n",
    "print(\"Boosting accuracy:\", boosting_accuracy)\n"
   ]
  },
  {
   "cell_type": "markdown",
   "metadata": {},
   "source": [
    "### stacking Method"
   ]
  },
  {
   "cell_type": "code",
   "execution_count": 28,
   "metadata": {},
   "outputs": [
    {
     "name": "stdout",
     "output_type": "stream",
     "text": [
      "Accuracy of Stacking Classifier: 0.6986174338222897\n"
     ]
    }
   ],
   "source": [
    "# Define the base models\n",
    "base_models = [\n",
    "    ('rf', RandomForestClassifier(n_estimators=100, random_state=42)),\n",
    "    ('gb', GradientBoostingClassifier(n_estimators=100, learning_rate=0.1, random_state=42))\n",
    "]\n",
    "\n",
    "# Define the meta-model\n",
    "meta_model = LogisticRegression()\n",
    "\n",
    "# Create the stacking classifier\n",
    "stacking_classifier = StackingClassifier(estimators=base_models, final_estimator=meta_model)\n",
    "\n",
    "# Train the stacking classifier on the training data\n",
    "stacking_classifier.fit(X_train, y_train)\n",
    "\n",
    "# Make predictions on the test set\n",
    "stacking_predictions = stacking_classifier.predict(X_test)\n",
    "\n",
    "# Evaluate the performance\n",
    "stack_accuracy = accuracy_score(y_test, stacking_predictions)\n",
    "print(f'Accuracy of Stacking Classifier: {stack_accuracy}')"
   ]
  },
  {
   "cell_type": "markdown",
   "metadata": {},
   "source": [
    "## voting classifier"
   ]
  },
  {
   "cell_type": "code",
   "execution_count": 29,
   "metadata": {},
   "outputs": [
    {
     "name": "stderr",
     "output_type": "stream",
     "text": [
      "C:\\Users\\Lenovo\\anaconda3\\envs\\loan_default_prediction\\lib\\site-packages\\sklearn\\ensemble\\_base.py:166: FutureWarning: `base_estimator` was renamed to `estimator` in version 1.2 and will be removed in 1.4.\n",
      "  warnings.warn(\n"
     ]
    },
    {
     "name": "stdout",
     "output_type": "stream",
     "text": [
      "Ensemble Model Accuracy: 0.6977744056651493\n"
     ]
    }
   ],
   "source": [
    "\n",
    "from sklearn.ensemble import VotingClassifier\n",
    "\n",
    "# Create a list of tuples with (model_name, model_instance)\n",
    "models = [ ( \"Decision Tree\", dt_clf), (\"Random Forest\",rf_clf), ( \"Stacking\", stacking_classifier), \n",
    "          (\"Boosting\", gb_clf),(\"Bagging\", bagging_clf)]\n",
    "\n",
    "# Create a Voting Classifier\n",
    "voting_classifier = VotingClassifier(estimators=models, voting='hard')  # 'hard' for majority voting\n",
    "\n",
    "\n",
    "# Fit the Voting Classifier on the training data\n",
    "voting_classifier.fit(X_train, y_train)\n",
    "\n",
    "# Predictions\n",
    "predictions = voting_classifier.predict(X_test)\n",
    "\n",
    "# Calculate and print accuracy\n",
    "accuracy = accuracy_score(y_test, predictions)\n",
    "print(f'Ensemble Model Accuracy: {accuracy}')\n",
    "\n",
    "\n"
   ]
  },
  {
   "cell_type": "code",
   "execution_count": 30,
   "metadata": {},
   "outputs": [
    {
     "name": "stdout",
     "output_type": "stream",
     "text": [
      "Ensemble Model Accuracy: 0.6977744056651493\n"
     ]
    }
   ],
   "source": [
    "# Create the bar chart\n",
    "# Calculate and print accuracy\n",
    "accuracy_ensemble = accuracy_score(y_test, predictions)\n",
    "print(f'Ensemble Model Accuracy: {accuracy}')"
   ]
  },
  {
   "cell_type": "code",
   "execution_count": 31,
   "metadata": {},
   "outputs": [
    {
     "data": {
      "image/png": "[encoded data removed]",
      "text/plain": [
       "<Figure size 1600x900 with 1 Axes>"
      ]
     },
     "metadata": {},
     "output_type": "display_data"
    }
   ],
   "source": [
    "# Accuracy scores for different models\n",
    "accuracies = {\n",
    "    \"Decision Tree\": dt_accuracy,\n",
    "    \"Random Forest\": random_accuracy,\n",
    "#     \"Support  Vector Machines\": svc_accuracy,\n",
    "    \"Logistic Regression\": lr_accuracy,\n",
    "    \"K-Nearest Neighbors\": knn_accuracy,\n",
    "    \"Stacking\": stack_accuracy,\n",
    "    \"Boosting\": boosting_accuracy,\n",
    "    \"Bagging\": bagging_accuracy,\n",
    "    \"Voting\":accuracy_ensemble \n",
    "}\n",
    "\n",
    "\n",
    "accuracies = dict(sorted(accuracies.items(), key=lambda item: item[1], reverse=True))\n",
    "\n",
    "# Create the bar chart\n",
    "plt.figure(figsize=(16, 9))  # Adjust figure size as needed\n",
    "\n",
    "colors = ['lightblue' if model != 'Random Forest' else 'orange' for model in accuracies.keys()]\n",
    "plt.bar(accuracies.keys(), accuracies.values(), color=colors)\n",
    "# Customize chart elements\n",
    "plt.xlabel(\"Model Type\", fontsize=14)\n",
    "plt.ylabel(\"Accuracy\", fontsize=14)\n",
    "plt.title(\"Accuracy Comparison of Different Models\", fontsize=18)\n",
    "plt.xticks(rotation=45, ha='right')  # Rotate x-axis labels for better readability\n",
    "plt.ylim(0, 1.1)  # Set y-axis limits for precision\n",
    "\n",
    "plt.grid(axis='y', linestyle='--', alpha=0.8)  # Add grid lines\n",
    "\n",
    "# Annotate each bar with 8 decimal places\n",
    "for i, v in enumerate(accuracies.values()):\n",
    "    plt.text(i, v + 0.005, f\"{v:.4f}\")  # Format with 8 decimals\n",
    "\n",
    "plt.tight_layout()  # Adjust layout for better spacing\n",
    "plt.show()\n"
   ]
  },
  {
   "cell_type": "markdown",
   "metadata": {},
   "source": [
    "### Model Tuning - Gradient boosting classifier"
   ]
  },
  {
   "cell_type": "code",
   "execution_count": 32,
   "metadata": {},
   "outputs": [
    {
     "name": "stdout",
     "output_type": "stream",
     "text": [
      "Best model: RandomForestClassifier(max_depth=30, min_samples_leaf=2, n_estimators=200)\n",
      "Best score: 0.6943133297861356\n",
      "CPU times: total: 1min 12s\n",
      "Wall time: 43min 22s\n"
     ]
    }
   ],
   "source": [
    "%%time\n",
    "\n",
    "from sklearn.model_selection import GridSearchCV\n",
    "\n",
    "param_grid = {\n",
    "    'n_estimators': [10, 50, 100, 200],\n",
    "    'max_depth': [None, 10, 20, 30],\n",
    "    'min_samples_split': [2, 5, 10],\n",
    "    'min_samples_leaf': [1, 2, 4]\n",
    "}\n",
    "\n",
    "grid = GridSearchCV(RandomForestClassifier(), param_grid, cv=5, n_jobs=-1)\n",
    "grid.fit(X_train, y_train)\n",
    "\n",
    "best_model = grid.best_estimator_\n",
    "print(f\"Best model: {best_model}\")\n",
    "print(f\"Best score: {grid.best_score_}\")"
   ]
  },
  {
   "cell_type": "markdown",
   "metadata": {},
   "source": [
    "### Feature_selection using  RFECV"
   ]
  },
  {
   "cell_type": "code",
   "execution_count": 33,
   "metadata": {},
   "outputs": [
    {
     "name": "stdout",
     "output_type": "stream",
     "text": [
      "Selected features: Index(['Age', 'Income', 'LoanAmount', 'CreditScore', 'MonthsEmployed',\n",
      "       'NumCreditLines', 'InterestRate', 'LoanTerm', 'DTIRatio', 'Education',\n",
      "       'EmploymentType', 'MaritalStatus', 'LoanPurpose', 'HasCoSigner'],\n",
      "      dtype='object')\n",
      "Feature ranks: [1 1 1 1 1 1 1 1 1 1 1 1 3 2 1 1]\n",
      "CPU times: total: 46min 24s\n",
      "Wall time: 46min 54s\n"
     ]
    }
   ],
   "source": [
    "%%time\n",
    "from sklearn.feature_selection import RFECV\n",
    "from sklearn.metrics import accuracy_score\n",
    "\n",
    "# Instantiate the best model from Step 4 (e.g., Random Forests)\n",
    "best_model = RandomForestClassifier(n_estimators=200, max_depth=30, min_samples_split=10, min_samples_leaf=2)\n",
    "\n",
    "# Create the RFECV object and fit it to the training data\n",
    "selector = RFECV(best_model, step=1, cv=5, scoring='accuracy')\n",
    "selector.fit(X_train, y_train)\n",
    "\n",
    "# Get the selected features and their ranks\n",
    "selected_features = X_train.columns[selector.support_]\n",
    "feature_ranks = selector.ranking_\n",
    "\n",
    "print(f\"Selected features: {selected_features}\")\n",
    "print(f\"Feature ranks: {feature_ranks}\")"
   ]
  },
  {
   "cell_type": "code",
   "execution_count": 34,
   "metadata": {},
   "outputs": [],
   "source": [
    "# Convert selected_features to a list\n",
    "selected_features_list = selected_features.tolist()\n",
    "\n",
    "# Remove target variable from the list of selected features if it's present\n",
    "if 'Defaulted' in selected_features_list:\n",
    "    selected_features_list.remove('Defaulted')\n",
    "\n",
    "# Create new dataframes with only the selected features\n",
    "X_train_selected = X_train[selected_features_list]\n",
    "X_test_selected = X_test[selected_features_list]\n"
   ]
  },
  {
   "cell_type": "markdown",
   "metadata": {},
   "source": [
    "### Train the model with   the list of selected features "
   ]
  },
  {
   "cell_type": "code",
   "execution_count": 35,
   "metadata": {},
   "outputs": [
    {
     "name": "stdout",
     "output_type": "stream",
     "text": [
      "Test accuracy with selected features: 0.6934749620637329\n"
     ]
    }
   ],
   "source": [
    "best_model=best_model.fit(X_train_selected, y_train)\n",
    "\n",
    "# Make predictions on the test set\n",
    "y_pred = best_model.predict(X_test_selected)\n",
    "\n",
    "# Evaluate the model using accuracy_score\n",
    "from sklearn.metrics import accuracy_score\n",
    "\n",
    "test_accuracy = accuracy_score(y_test, y_pred)\n",
    "print(f\"Test accuracy with selected features: {test_accuracy}\")"
   ]
  },
  {
   "cell_type": "markdown",
   "metadata": {},
   "source": [
    "### Model Evaluation"
   ]
  },
  {
   "cell_type": "code",
   "execution_count": 36,
   "metadata": {},
   "outputs": [
    {
     "name": "stdout",
     "output_type": "stream",
     "text": [
      "Accuracy: 0.6935\n",
      "Precision: 0.7003\n",
      "Recall: 0.6875\n",
      "F1-score: 0.6938\n",
      "AUC-ROC: 0.6935\n"
     ]
    }
   ],
   "source": [
    "from sklearn.metrics import accuracy_score, precision_score, recall_score, f1_score, roc_auc_score\n",
    "\n",
    "# Make predictions on the test set\n",
    "y_pred = best_model.predict(X_test_selected)\n",
    "\n",
    "# Calculate evaluation scores\n",
    "accuracy = accuracy_score(y_test, y_pred)\n",
    "precision = precision_score(y_test, y_pred)\n",
    "recall = recall_score(y_test, y_pred)\n",
    "f1 = f1_score(y_test, y_pred)\n",
    "auc_roc = roc_auc_score(y_test, y_pred)\n",
    "\n",
    "# Print evaluation scores\n",
    "print(f\"Accuracy: {accuracy:.4f}\")\n",
    "print(f\"Precision: {precision:.4f}\")\n",
    "print(f\"Recall: {recall:.4f}\")\n",
    "print(f\"F1-score: {f1:.4f}\")\n",
    "print(f\"AUC-ROC: {auc_roc:.4f}\")"
   ]
  },
  {
   "cell_type": "markdown",
   "metadata": {},
   "source": [
    "### Confusion Matrix"
   ]
  },
  {
   "cell_type": "code",
   "execution_count": 37,
   "metadata": {},
   "outputs": [
    {
     "data": {
      "text/plain": [
       "Text(0.5, 1.0, 'Confusion Matrix')"
      ]
     },
     "execution_count": 37,
     "metadata": {},
     "output_type": "execute_result"
    },
    {
     "data": {
      "image/png": "[encoded data removed]",
      "text/plain": [
       "<Figure size 600x600 with 1 Axes>"
      ]
     },
     "metadata": {},
     "output_type": "display_data"
    }
   ],
   "source": [
    "from sklearn.metrics import confusion_matrix\n",
    "import matplotlib.pyplot as plt\n",
    "import seaborn as sns\n",
    "\n",
    "# Calculate the confusion matrix\n",
    "cm = confusion_matrix(y_test, y_pred)\n",
    "\n",
    "# Plot the confusion matrix using Seaborn\n",
    "plt.figure(figsize=(6, 6))\n",
    "sns.heatmap(cm, annot=True, fmt='d', cmap='Blues', cbar=False, linewidths=0.5)\n",
    "plt.xlabel('Predicted')\n",
    "plt.ylabel('Actual')\n",
    "plt.title('Confusion Matrix')\n",
    "\n",
    "\n",
    "# Save the confusion matrix as an image\n",
    "\n",
    "#plt.savefig('confusion_matrix.png')\n"
   ]
  },
  {
   "cell_type": "markdown",
   "metadata": {},
   "source": [
    "### To save the best features list as json for future use "
   ]
  },
  {
   "cell_type": "code",
   "execution_count": 38,
   "metadata": {},
   "outputs": [],
   "source": [
    "import json\n",
    "selected_features_list = selected_features.tolist()\n",
    "\n",
    "with open(\"selected_features.json\", \"w\") as f:\n",
    "    json.dump(selected_features_list, f)"
   ]
  },
  {
   "cell_type": "markdown",
   "metadata": {},
   "source": [
    "### Save the model"
   ]
  },
  {
   "cell_type": "code",
   "execution_count": 39,
   "metadata": {},
   "outputs": [
    {
     "data": {
      "text/plain": [
       "['best_model1.pkl']"
      ]
     },
     "execution_count": 39,
     "metadata": {},
     "output_type": "execute_result"
    }
   ],
   "source": [
    "import joblib\n",
    "\n",
    "# Save the best model to a file\n",
    "joblib.dump(best_model, \"best_model1.pkl\")"
   ]
  },
  {
   "cell_type": "markdown",
   "metadata": {},
   "source": [
    "### Create Streamlit Web App"
   ]
  },
  {
   "cell_type": "code",
   "execution_count": 40,
   "metadata": {},
   "outputs": [
    {
     "name": "stderr",
     "output_type": "stream",
     "text": [
      "2024-03-05 22:01:33.225 \n",
      "  \u001b[33m\u001b[1mWarning:\u001b[0m to view this Streamlit app on a browser, run it with the following\n",
      "  command:\n",
      "\n",
      "    streamlit run C:\\Users\\Lenovo\\anaconda3\\envs\\loan_default_prediction\\lib\\site-packages\\ipykernel_launcher.py [ARGUMENTS]\n"
     ]
    }
   ],
   "source": [
    "import streamlit as st\n",
    "import pandas as pd\n",
    "import numpy as np\n",
    "from sklearn.preprocessing import StandardScaler\n",
    "from sklearn.ensemble import RandomForestClassifier\n",
    "import joblib\n",
    "from sklearn.preprocessing import LabelEncoder\n",
    "\n",
    "# Load the trained model\n",
    "model = joblib.load(\"best_model1.pkl\")\n",
    "\n",
    "# Define the app title and layout\n",
    "st.title(\"Loan Default Prediction App\")\n",
    "\n",
    "# Define input fields for features\n",
    "credit_score = st.number_input(\"Credit Score\", min_value=0, max_value=1000, value=600, step=1)\n",
    "age = st.number_input(\"Age\", min_value=18, max_value=100, value=30, step=1)\n",
    "income = st.number_input(\"Income\", min_value=0.0, max_value=300000.0, value=10000.0, step=100.0)\n",
    "LoanAmount= st.number_input(\"Loan Amount\", min_value=5000.0, max_value=250000.0, value=10000.0, step=100.0)\n",
    "MonthsEmployed = st.number_input(\"Months Employed\", min_value=0, max_value=360, value=1, step=1)\n",
    "NumCreditLines=st.number_input(\"Number of Credit Lines\",min_value=0,max_value=4,value=1,step=1)\n",
    "InterestRate=st.number_input(\"Interest rate\",min_value=0.0,max_value=25.0,value=1.0,step=1.0)\n",
    "DTIRatio=st.number_input(\"DTI ratio\",min_value=0.0,max_value=0.9,value=0.1,step=0.1)\n",
    "LoanTerm=st.number_input(\"Loan Term\", min_value=0, max_value=60, value=6, step=6)\n",
    "HasMortgage = st.selectbox(\"Has Mortage\", [\"No\",\"Yes\"])\n",
    "HasDependents = st.selectbox(\"Has Dependants\", [\"No\",\"Yes\"])\n",
    "HasCoSigner = st.selectbox(\"Has Co-Signer\",  [\"No\",\"Yes\"])\n",
    "LoanPurpose = st.selectbox(\"Loan Purpose\",  [\"Education\", \"Home\", \"Auto\",\"Other\"])\n",
    "Education = st.selectbox(\"Education\", [\"Bachelor's\", \"High School\", \"Master's\"])\n",
    "EmploymentType = st.selectbox(\"Employment Type\", [\"Full-time\", \"Part-time\", \"self-employed\",\"unemployed\"])\n",
    "MaritalStatus = st.selectbox(\"Marital Status\", [\"Married\", \"Single\",\"Divorced\"])\n",
    "\n",
    "# Create a button for making predictions\n",
    "if st.button(\"Predict\"):\n",
    "    # Process input values\n",
    "    input_data = pd.DataFrame(\n",
    "        {\n",
    "            \"CreditScore\": [credit_score],\n",
    "            \"Age\": [age],\n",
    "            \"Income\": [income],\n",
    "            \"LoanAmount\": [LoanAmount],\n",
    "            \"MonthsEmployed\":[MonthsEmployed],\n",
    "            \"NumCreditLines\": [NumCreditLines],\n",
    "            \"InterestRate\": [InterestRate],\n",
    "            \"DTIRatio\": [DTIRatio],\n",
    "            \"LoanTerm\": [LoanTerm],\n",
    "            \"HasMortgage\": [HasMortgage],\n",
    "            \"HasDependents\": [HasDependents],\n",
    "            \"HasCoSigner\": [HasCoSigner],\n",
    "            \"LoanPurpose\": [LoanPurpose],\n",
    "            \"Education\": [Education],\n",
    "            \"EmploymentType\": [EmploymentType],\n",
    "            \"MaritalStatus\": [MaritalStatus]\n",
    "          \n",
    "        }\n",
    "    )\n",
    "\n",
    "    #picking categorical columns and encoding them\n",
    "    categorical_columns = ['Education', 'EmploymentType', 'MaritalStatus', 'HasMortgage', 'HasDependents', 'LoanPurpose', 'HasCoSigner']\n",
    "\n",
    "    # Initializing LabelEncoder\n",
    "    label_encoder = LabelEncoder()\n",
    "\n",
    "    # Encoding categorical columns\n",
    "    for col in categorical_columns:\n",
    "        input_data[col] = label_encoder.fit_transform(input_data[col])\n",
    "\n",
    "    # Scale input data using the same scaler used during training\n",
    "    scaler = StandardScaler()\n",
    "    input_data_scaled = scaler.fit_transform(input_data)\n",
    "\n",
    "    # Make a prediction using the trained model\n",
    "    prediction = model.predict(input_data_scaled)\n",
    "\n",
    "    # Display the prediction\n",
    "    if prediction[0] == 1:\n",
    "        st.success(\"The customer is at risk of defaulting.\")\n",
    "    else:\n",
    "        st.success(\"The customer is not at risk of defaulting.\")\n",
    "\n"
   ]
  }
 ],
 "metadata": {
  "kaggle": {
   "accelerator": "nvidiaTeslaT4",
   "dataSources": [
    {
     "datasetId": 4532249,
     "sourceId": 7751670,
     "sourceType": "datasetVersion"
    }
   ],
   "dockerImageVersionId": 30665,
   "isGpuEnabled": true,
   "isInternetEnabled": true,
   "language": "python",
   "sourceType": "notebook"
  },
  "kernelspec": {
   "display_name": "Python 3 (ipykernel)",
   "language": "python",
   "name": "python3"
  },
  "language_info": {
   "codemirror_mode": {
    "name": "ipython",
    "version": 3
   },
   "file_extension": ".py",
   "mimetype": "text/x-python",
   "name": "python",
   "nbconvert_exporter": "python",
   "pygments_lexer": "ipython3",
   "version": "3.11.5"
  }
 },
 "nbformat": 4,
 "nbformat_minor": 4
}
